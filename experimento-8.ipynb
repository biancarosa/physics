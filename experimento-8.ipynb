{
 "cells": [
  {
   "cell_type": "code",
   "execution_count": 1,
   "metadata": {
    "collapsed": true
   },
   "outputs": [],
   "source": [
    "import matplotlib.pyplot as pyplot\n",
    "import numpy"
   ]
  },
  {
   "cell_type": "code",
   "execution_count": 2,
   "metadata": {
    "collapsed": true
   },
   "outputs": [],
   "source": [
    "# Posição V0 adquirida pelo capacitor C1\n",
    "# V0 = 8,8V\n",
    "\n",
    "# Incerteza\n",
    "# ΔV = 0,10V\n",
    "\n",
    "# V' = V0/e (~ 2,71)\n",
    "# V' = 3,2 +- 0,1V"
   ]
  },
  {
   "cell_type": "code",
   "execution_count": 6,
   "metadata": {
    "collapsed": true
   },
   "outputs": [],
   "source": [
    "# Posição V0 adquirida pelo capacitor C2\n",
    "# V0 = 8,8V\n",
    "\n",
    "# Incerteza\n",
    "# ΔV = 0,10V\n",
    "\n",
    "# V' = V0/e (~ 2,71)\n",
    "# V' = 3,2 +- 0,1V"
   ]
  },
  {
   "cell_type": "code",
   "execution_count": 7,
   "metadata": {
    "collapsed": true
   },
   "outputs": [],
   "source": [
    "# Rfab = 200Ω"
   ]
  },
  {
   "cell_type": "markdown",
   "metadata": {},
   "source": [
    "**Capacitor C1**\n",
    "\n",
    "| t (s) | V (V) | ΔV (V) |\n",
    "| ----- | ----- | ----- |\n",
    "| 0 | 8,8 | 0,1 |\n",
    "| 10 | 8,0 | 0,1 |\n",
    "| 20 | 7,2 | 0,1 |\n",
    "| 30 | 6,4 | 0,1 |\n",
    "| 40 | 5,8 | 0,1 |\n",
    "| 50 | 5,0 | 0,1 |\n",
    "| 60 | 4,6 | 0,1 |\n",
    "| 70 | 4,2 | 0,1 |\n",
    "| 80 | 3,8 | 0,1 |\n",
    "| 90 | 3,2 | 0,1 |\n",
    "| 100 | 3,1 | 0,1 |\n",
    "| 110 | 2,8 | 0,1 |\n",
    "| 120 | 2,2 | 0,1 |"
   ]
  },
  {
   "cell_type": "code",
   "execution_count": 51,
   "metadata": {},
   "outputs": [
    {
     "data": {
      "image/png": "[encoded data removed]",
      "text/plain": [
       "<matplotlib.figure.Figure at 0x7f9d9013c9e8>"
      ]
     },
     "metadata": {},
     "output_type": "display_data"
    },
    {
     "data": {
      "image/png": "[encoded data removed]",
      "text/plain": [
       "<matplotlib.figure.Figure at 0x7f9d900066d8>"
      ]
     },
     "metadata": {},
     "output_type": "display_data"
    },
    {
     "name": "stdout",
     "output_type": "stream",
     "text": [
      "Equação da curva\n",
      "y = 0.000267x² + -0.084975x + 8.772527\n",
      "Equação da reta tangente ao ponto 3.2\n",
      "0.084975 - 0.000534 x\n"
     ]
    }
   ],
   "source": [
    "x = [0, 10, 20, 30, 40, 50, 60, 70, 80, 90, 100, 110, 120]\n",
    "y = [8.8, 8.0, 7.2, 6.4, 5.8, 5.0, 4.6, 4.2, 3.8, 3.2, 3.1, 2.8, 2.2]\n",
    "pyplot.plot(x, y,'o')\n",
    "pyplot.show()\n",
    "z = numpy.polyfit(x,y,2)\n",
    "p = numpy.poly1d(z)\n",
    "pyplot.plot(x,p(x),\"r--\")\n",
    "pyplot.axhline(3.2)\n",
    "pyplot.show()\n",
    "print(\"Equação da curva\")\n",
    "print(\"y = %.6fx² + %.6fx + %.6f\"%(z[0], z[1], z[2]))\n",
    "print(\"Equação da reta tangente ao ponto 3.2\")\n",
    "print(\"0.084975 - 0.000534 x\")"
   ]
  },
  {
   "cell_type": "markdown",
   "metadata": {},
   "source": [
    "**Capacitor C2**\n",
    "\n",
    "| t (s) | V (V) | ΔV (V) |\n",
    "| ----- | ----- | ----- |\n",
    "| 0 | 8,8 | 0,1 |\n",
    "| 10 | 7,9 | 0,1 |\n",
    "| 20 | 7,0 | 0,1 |\n",
    "| 30 | 6,4 | 0,1 |\n",
    "| 40 | 5,6 | 0,1 |\n",
    "| 50 | 5,2 | 0,1 |\n",
    "| 60 | 4,6 | 0,1 |\n",
    "| 70 | 4,2 | 0,1 |\n",
    "| 80 | 3,8 | 0,1 |\n",
    "| 90 | 3,4 | 0,1 |\n",
    "| 100 | 3,0 | 0,1 |\n",
    "| 110 | 2,8 | 0,1 |\n",
    "| 120 | 2,6 | 0,1 |\n",
    "| 130 | 2,2 | 0,1 |"
   ]
  },
  {
   "cell_type": "code",
   "execution_count": 52,
   "metadata": {},
   "outputs": [
    {
     "data": {
      "image/png": "[encoded data removed]",
      "text/plain": [
       "<matplotlib.figure.Figure at 0x7f9d8fd78780>"
      ]
     },
     "metadata": {},
     "output_type": "display_data"
    },
    {
     "data": {
      "image/png": "[encoded data removed]",
      "text/plain": [
       "<matplotlib.figure.Figure at 0x7f9d8feda240>"
      ]
     },
     "metadata": {},
     "output_type": "display_data"
    },
    {
     "name": "stdout",
     "output_type": "stream",
     "text": [
      "Equação da curva\n",
      "y = 0.000267x² + -0.083370x + 8.677500\n",
      "Equação da reta tangente ao ponto 3.2\n",
      "0.08337 - 0.000534 x\n"
     ]
    }
   ],
   "source": [
    "x = [0, 10, 20, 30, 40, 50, 60, 70, 80, 90, 100, 110, 120, 130]\n",
    "y = [8.8, 7.9, 7.0, 6.4, 5.6, 5.2, 4.6, 4.2, 3.8, 3.4, 3.0, 2.8, 2.6, 2.2]\n",
    "pyplot.plot(x, y,'o')\n",
    "pyplot.show()\n",
    "z = numpy.polyfit(x,y,2)\n",
    "p = numpy.poly1d(z)\n",
    "pyplot.plot(x,p(x),\"r--\")\n",
    "pyplot.axhline(3.2)\n",
    "pyplot.show()\n",
    "print(\"Equação da curva\")\n",
    "print(\"y = %.6fx² + %.6fx + %.6f\"%(z[0], z[1], z[2]))\n",
    "print(\"Equação da reta tangente ao ponto 3.2\")\n",
    "print(\"0.08337 - 0.000534 x\")"
   ]
  },
  {
   "cell_type": "code",
   "execution_count": 47,
   "metadata": {},
   "outputs": [
    {
     "name": "stdout",
     "output_type": "stream",
     "text": [
      "C1\n",
      "Rmedido = 196.6\n",
      "d = 1.73\n",
      "C2\n",
      "Rmedido = 93.9\n",
      "d = 112.99\n"
     ]
    }
   ],
   "source": [
    "# No caso do Capacitor C1, V' ocorre quando T = 92,4\n",
    "# 0.000267x² + -0.084975x + 8.772527 = 3.2\n",
    "# x = 92.4118\n",
    "x = 92400 #ms\n",
    "r = x / 470 #µF\n",
    "print(\"C1\")\n",
    "print(\"Rmedido = %0.1f\"%(r))\n",
    "desvio = (abs(r - 200)  / r) * 100\n",
    "print(\"d = %.2f\"%(desvio))\n",
    "\n",
    "# No caso do Capacitor C2, V' ocorre quando T = 93,9\n",
    "# 0.000267x² + -0.083370x + 8.677500 = 3.2\n",
    "# x = 93.998\n",
    "x = 93900 #ms\n",
    "r = x / 1000 #µF\n",
    "print(\"C2\")\n",
    "print(\"Rmedido = %0.1f\"%(r))\n",
    "desvio = (abs(r - 200)  / r) * 100\n",
    "print(\"d = %.2f\"%(desvio))"
   ]
  }
 ],
 "metadata": {
  "kernelspec": {
   "display_name": "Python 3",
   "language": "python",
   "name": "python3"
  },
  "language_info": {
   "codemirror_mode": {
    "name": "ipython",
    "version": 3
   },
   "file_extension": ".py",
   "mimetype": "text/x-python",
   "name": "python",
   "nbconvert_exporter": "python",
   "pygments_lexer": "ipython3",
   "version": "3.5.2"
  }
 },
 "nbformat": 4,
 "nbformat_minor": 2
}
