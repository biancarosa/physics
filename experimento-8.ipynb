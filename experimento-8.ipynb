{
 "cells": [
  {
   "cell_type": "code",
   "execution_count": 8,
   "metadata": {},
   "outputs": [
    {
     "ename": "ImportError",
     "evalue": "No module named 'matplotlib'",
     "output_type": "error",
     "traceback": [
      "\u001b[0;31m---------------------------------------------------------------------------\u001b[0m",
      "\u001b[0;31mImportError\u001b[0m                               Traceback (most recent call last)",
      "\u001b[0;32m<ipython-input-8-92a51900e659>\u001b[0m in \u001b[0;36m<module>\u001b[0;34m()\u001b[0m\n\u001b[0;32m----> 1\u001b[0;31m \u001b[0;32mimport\u001b[0m \u001b[0mmatplotlib\u001b[0m\u001b[0;34m.\u001b[0m\u001b[0mpyplot\u001b[0m \u001b[0;32mas\u001b[0m \u001b[0mpyplot\u001b[0m\u001b[0;34m\u001b[0m\u001b[0m\n\u001b[0m\u001b[1;32m      2\u001b[0m \u001b[0;32mimport\u001b[0m \u001b[0mnumpy\u001b[0m\u001b[0;34m\u001b[0m\u001b[0m\n",
      "\u001b[0;31mImportError\u001b[0m: No module named 'matplotlib'"
     ]
    }
   ],
   "source": [
    "import matplotlib.pyplot as pyplot\n",
    "import numpy"
   ]
  },
  {
   "cell_type": "code",
   "execution_count": 2,
   "metadata": {
    "collapsed": true
   },
   "outputs": [],
   "source": [
    "# Posição V0 adquirida pelo capacitor C1\n",
    "# V0 = 8,8V\n",
    "\n",
    "# Incerteza\n",
    "# ΔV = 0,10V\n",
    "\n",
    "# V' = V0/e (~ 2,71)\n",
    "# V' = 3,2 +- 0,1V"
   ]
  },
  {
   "cell_type": "code",
   "execution_count": 6,
   "metadata": {
    "collapsed": true
   },
   "outputs": [],
   "source": [
    "# Posição V0 adquirida pelo capacitor C2\n",
    "# V0 = 8,8V\n",
    "\n",
    "# Incerteza\n",
    "# ΔV = 0,10V\n",
    "\n",
    "# V' = V0/e (~ 2,71)\n",
    "# V' = 3,2 +- 0,1V"
   ]
  },
  {
   "cell_type": "code",
   "execution_count": 7,
   "metadata": {
    "collapsed": true
   },
   "outputs": [],
   "source": [
    "# Rfab = 200Ω"
   ]
  },
  {
   "cell_type": "markdown",
   "metadata": {},
   "source": [
    "**Capacitor C1**\n",
    "\n",
    "| t (s) | V (V) | ΔV (V) |\n",
    "| ----- | ----- | ----- |\n",
    "| 0 | 8,8 | 0,1 |\n",
    "| 10 | 8,0 | 0,1 |\n",
    "| 20 | 7,2 | 0,1 |\n",
    "| 30 | 6,4 | 0,1 |\n",
    "| 40 | 5,8 | 0,1 |\n",
    "| 50 | 5,0 | 0,1 |\n",
    "| 60 | 4,6 | 0,1 |\n",
    "| 70 | 4,2 | 0,1 |\n",
    "| 80 | 3,8 | 0,1 |\n",
    "| 90 | 3,2 | 0,1 |\n",
    "| 100 | 3,1 | 0,1 |\n",
    "| 110 | 2,8 | 0,1 |\n",
    "| 120 | 2,2 | 0,1 |"
   ]
  },
  {
   "cell_type": "markdown",
   "metadata": {},
   "source": [
    "**Capacitor C2**\n",
    "\n",
    "| t (s) | V (V) | ΔV (V) |\n",
    "| ----- | ----- | ----- |\n",
    "| 0 | 8,8 | 0,1 |\n",
    "| 10 | 7,9 | 0,1 |\n",
    "| 20 | 7,0 | 0,1 |\n",
    "| 30 | 6,4 | 0,1 |\n",
    "| 40 | 5,6 | 0,1 |\n",
    "| 50 | 5,2 | 0,1 |\n",
    "| 60 | 4,6 | 0,1 |\n",
    "| 70 | 4,2 | 0,1 |\n",
    "| 80 | 3,8 | 0,1 |\n",
    "| 90 | 3,4 | 0,1 |\n",
    "| 100 | 3,0 | 0,1 |\n",
    "| 110 | 2,8 | 0,1 |\n",
    "| 120 | 2,6 | 0,1 |\n",
    "| 130 | 2,2 | 0,1 |"
   ]
  }
 ],
 "metadata": {
  "kernelspec": {
   "display_name": "Python 3",
   "language": "python",
   "name": "python3"
  },
  "language_info": {
   "codemirror_mode": {
    "name": "ipython",
    "version": 3
   },
   "file_extension": ".py",
   "mimetype": "text/x-python",
   "name": "python",
   "nbconvert_exporter": "python",
   "pygments_lexer": "ipython3",
   "version": "3.5.2"
  }
 },
 "nbformat": 4,
 "nbformat_minor": 2
}
